{
 "cells": [
  {
   "cell_type": "markdown",
   "metadata": {},
   "source": [
    "Run the first two cells on command line. Does not run on jupyter notebook.\n",
    "<br>\n",
    "Checking the basic statistics of the NCBI disease corpus and the MEDIC dictionary."
   ]
  },
  {
   "cell_type": "code",
   "execution_count": 3,
   "metadata": {},
   "outputs": [
    {
     "name": "stderr",
     "output_type": "stream",
     "text": [
      "usage: ipykernel_launcher.py [-h] [-t]\n",
      "ipykernel_launcher.py: error: unrecognized arguments: -f /run/user/1016/jupyter/kernel-f3f25071-4802-4d5e-9fc8-27a18c96e6a7.json\n"
     ]
    },
    {
     "ename": "SystemExit",
     "evalue": "2",
     "output_type": "error",
     "traceback": [
      "An exception has occurred, use %tb to see the full traceback.\n",
      "\u001b[0;31mSystemExit\u001b[0m\u001b[0;31m:\u001b[0m 2\n"
     ]
    },
    {
     "name": "stderr",
     "output_type": "stream",
     "text": [
      "/home/lhchan/.local/lib/python3.5/site-packages/IPython/core/interactiveshell.py:2971: UserWarning: To exit: use 'exit', 'quit', or Ctrl-D.\n",
      "  warn(\"To exit: use 'exit', 'quit', or Ctrl-D.\", stacklevel=1)\n"
     ]
    }
   ],
   "source": [
    "# Setting stuff up\n",
    "\n",
    "import logging\n",
    "import logging.config\n",
    "\n",
    "import configparser as cp\n",
    "import args\n",
    "\n",
    "import numpy as np\n",
    "from keras.preprocessing.sequence import pad_sequences\n",
    "import pickle\n",
    "import random\n",
    "import nltk\n",
    "import time\n",
    "import os\n",
    "\n",
    "import vectorizer\n",
    "import load\n",
    "import sample\n",
    "\n",
    "#configurations\n",
    "dynamic_defaults = {'timestamp': time.strftime('%Y%m%d-%H%M%S')}\n",
    "config = cp.ConfigParser(defaults=dynamic_defaults,interpolation=cp.ExtendedInterpolation(),strict=False)\n",
    "try:\n",
    "    directory = os.path.join(os.path.abspath(os.path.dirname(__file__)))\n",
    "    config.read(os.path.join(directory, 'defaults.cfg'))\n",
    "except NameError:\n",
    "    directory = '/home/lhchan/disease_normalization/src'\n",
    "    config.read(os.path.join(directory, 'defaults.cfg'))\n",
    "    \n",
    "\n",
    "#argparser\n",
    "args = args.get_args()\n",
    "'''\n",
    ">>> args.train\n",
    "False\n",
    "'''\n",
    "\n",
    "#logging\n",
    "logger = logging.getLogger(__name__)\n",
    "logging.config.dictConfig({\n",
    "    'version': 1,\n",
    "    'disable_existing_loggers': False,\n",
    "    'formatters': {\n",
    "        'standard': {\n",
    "            'format': '%(asctime)s [%(levelname)s] %(name)s: %(message)s'\n",
    "        },\n",
    "    },\n",
    "    'handlers': {\n",
    "        'default': {\n",
    "            'level':'INFO',\n",
    "            'formatter': 'standard',\n",
    "            'class':'logging.StreamHandler',\n",
    "        },\n",
    "    },\n",
    "    'loggers': {\n",
    "        '': {\n",
    "            'handlers': ['default'],\n",
    "            'level': 'INFO',\n",
    "            'propagate': True\n",
    "        }\n",
    "    }\n",
    "})\n",
    "\n",
    "\n",
    "# word embedding\n",
    "vector_model, vocabulary, inversed_vocabulary = vectorizer.prepare_embedding_vocab(config['embedding']['emb_file'], binary = True, limit = config.getint('embedding','limit'))\n",
    "# vector_model, vocabulary, inversed_vocabulary = vectorizer.prepare_embedding_vocab('/home/lenz/disease-normalization/data/embeddings/wvec_50_haodi-li-et-al.bin', binary = True, limit = 1000000)\n",
    "pretrained = vectorizer.load_pretrained_word_embeddings(vocabulary, vector_model)\n",
    "\n",
    "# MEDIC dictionary\n",
    "dictionary = load.Terminology()\n",
    "# dictionary of entries, key = canonical id, value = named tuple in the form of\n",
    "#   MEDIC_ENTRY(DiseaseID='MESH:D005671', DiseaseName='Fused Teeth',\n",
    "#   AllDiseaseIDs=('MESH:D005671',), AllNames=('Fused Teeth', 'Teeth, Fused')\n",
    "dictionary.loaded = load.load(config['terminology']['dict_file'],'MEDIC')\n",
    "\n",
    "\n",
    "def concept_obj(conf,dictionary,order=None):\n",
    "    # concept_ids = [] # list of all concept ids\n",
    "    # concept_all_ids = [] # list of (lists of all concept ids with alt IDs)\n",
    "    concept_names = [] # list of all names, same length as concept_ids\n",
    "    # concept_map = {} # names as keys, ids as concepts\n",
    "\n",
    "\n",
    "    if order:\n",
    "        use = order\n",
    "        logger.info('Re-initializng concept object.')\n",
    "    else:\n",
    "        use = dictionary.loaded.keys()\n",
    "\n",
    "    for k in use:\n",
    "    # keys not in congruent order! To make them congruent:\n",
    "    # k,v = zip(*dictionary.loaded.items())\n",
    "    # k = list(k)\n",
    "    # k.sort()\n",
    "        # c_id = dictionary.loaded[k].DiseaseID\n",
    "        # a_ids = dictionary.loaded[k].AllDiseaseIDs\n",
    "        for n in dictionary.loaded[k].AllNames:\n",
    "            concept_names.append(n)\n",
    "\n",
    "    # tokenization & vectorization of dictionary terms\n",
    "    import nltk\n",
    "\n",
    "    # save the stuff to object\n",
    "    concept = sample.NewDataSet('concepts')\n",
    "    #concept.ids = concept_ids\n",
    "    #concept.all_ids = concept_all_ids\n",
    "    concept.names = concept_names\n",
    "    #concept.map = concept_map\n",
    "    concept.tokenize = [nltk.word_tokenize(name) for name in concept.names] # list of list of tokenized names\n",
    "    concept.vectorize = np.array([[vocabulary.get(text.lower(),1) for text in concept] for concept in concept.tokenize])\n",
    "    concept.padded = pad_sequences(concept.vectorize, padding='post', maxlen=int(config['embedding']['length']))\n",
    "\n",
    "    return concept\n",
    "\n",
    "concept = concept_obj(config,dictionary)"
   ]
  },
  {
   "cell_type": "code",
   "execution_count": 2,
   "metadata": {},
   "outputs": [
    {
     "ename": "NameError",
     "evalue": "name 'vocabulary' is not defined",
     "output_type": "error",
     "traceback": [
      "\u001b[0;31m---------------------------------------------------------------------------\u001b[0m",
      "\u001b[0;31mNameError\u001b[0m                                 Traceback (most recent call last)",
      "\u001b[0;32m<ipython-input-2-bb7fe1b183b1>\u001b[0m in \u001b[0;36m<module>\u001b[0;34m()\u001b[0m\n\u001b[1;32m     27\u001b[0m     \u001b[0;32mimport\u001b[0m \u001b[0mnltk\u001b[0m\u001b[0;34m\u001b[0m\u001b[0m\n\u001b[1;32m     28\u001b[0m     \u001b[0mmention_tokenize\u001b[0m \u001b[0;34m=\u001b[0m \u001b[0;34m[\u001b[0m\u001b[0mnltk\u001b[0m\u001b[0;34m.\u001b[0m\u001b[0mword_tokenize\u001b[0m\u001b[0;34m(\u001b[0m\u001b[0mname\u001b[0m\u001b[0;34m)\u001b[0m \u001b[0;32mfor\u001b[0m \u001b[0mname\u001b[0m \u001b[0;32min\u001b[0m \u001b[0mmention_names\u001b[0m\u001b[0;34m]\u001b[0m\u001b[0;34m\u001b[0m\u001b[0m\n\u001b[0;32m---> 29\u001b[0;31m     \u001b[0mmention_vectorize\u001b[0m \u001b[0;34m=\u001b[0m \u001b[0mnp\u001b[0m\u001b[0;34m.\u001b[0m\u001b[0marray\u001b[0m\u001b[0;34m(\u001b[0m\u001b[0;34m[\u001b[0m\u001b[0;34m[\u001b[0m\u001b[0mvocabulary\u001b[0m\u001b[0;34m.\u001b[0m\u001b[0mget\u001b[0m\u001b[0;34m(\u001b[0m\u001b[0mtext\u001b[0m\u001b[0;34m.\u001b[0m\u001b[0mlower\u001b[0m\u001b[0;34m(\u001b[0m\u001b[0;34m)\u001b[0m\u001b[0;34m,\u001b[0m\u001b[0;36m1\u001b[0m\u001b[0;34m)\u001b[0m \u001b[0;32mfor\u001b[0m \u001b[0mtext\u001b[0m \u001b[0;32min\u001b[0m \u001b[0mmention\u001b[0m\u001b[0;34m]\u001b[0m \u001b[0;32mfor\u001b[0m \u001b[0mmention\u001b[0m \u001b[0;32min\u001b[0m \u001b[0mmention_tokenize\u001b[0m\u001b[0;34m]\u001b[0m\u001b[0;34m)\u001b[0m\u001b[0;34m\u001b[0m\u001b[0m\n\u001b[0m\u001b[1;32m     30\u001b[0m \u001b[0;34m\u001b[0m\u001b[0m\n\u001b[1;32m     31\u001b[0m \u001b[0;34m\u001b[0m\u001b[0m\n",
      "\u001b[0;32m<ipython-input-2-bb7fe1b183b1>\u001b[0m in \u001b[0;36m<listcomp>\u001b[0;34m(.0)\u001b[0m\n\u001b[1;32m     27\u001b[0m     \u001b[0;32mimport\u001b[0m \u001b[0mnltk\u001b[0m\u001b[0;34m\u001b[0m\u001b[0m\n\u001b[1;32m     28\u001b[0m     \u001b[0mmention_tokenize\u001b[0m \u001b[0;34m=\u001b[0m \u001b[0;34m[\u001b[0m\u001b[0mnltk\u001b[0m\u001b[0;34m.\u001b[0m\u001b[0mword_tokenize\u001b[0m\u001b[0;34m(\u001b[0m\u001b[0mname\u001b[0m\u001b[0;34m)\u001b[0m \u001b[0;32mfor\u001b[0m \u001b[0mname\u001b[0m \u001b[0;32min\u001b[0m \u001b[0mmention_names\u001b[0m\u001b[0;34m]\u001b[0m\u001b[0;34m\u001b[0m\u001b[0m\n\u001b[0;32m---> 29\u001b[0;31m     \u001b[0mmention_vectorize\u001b[0m \u001b[0;34m=\u001b[0m \u001b[0mnp\u001b[0m\u001b[0;34m.\u001b[0m\u001b[0marray\u001b[0m\u001b[0;34m(\u001b[0m\u001b[0;34m[\u001b[0m\u001b[0;34m[\u001b[0m\u001b[0mvocabulary\u001b[0m\u001b[0;34m.\u001b[0m\u001b[0mget\u001b[0m\u001b[0;34m(\u001b[0m\u001b[0mtext\u001b[0m\u001b[0;34m.\u001b[0m\u001b[0mlower\u001b[0m\u001b[0;34m(\u001b[0m\u001b[0;34m)\u001b[0m\u001b[0;34m,\u001b[0m\u001b[0;36m1\u001b[0m\u001b[0;34m)\u001b[0m \u001b[0;32mfor\u001b[0m \u001b[0mtext\u001b[0m \u001b[0;32min\u001b[0m \u001b[0mmention\u001b[0m\u001b[0;34m]\u001b[0m \u001b[0;32mfor\u001b[0m \u001b[0mmention\u001b[0m \u001b[0;32min\u001b[0m \u001b[0mmention_tokenize\u001b[0m\u001b[0;34m]\u001b[0m\u001b[0;34m)\u001b[0m\u001b[0;34m\u001b[0m\u001b[0m\n\u001b[0m\u001b[1;32m     30\u001b[0m \u001b[0;34m\u001b[0m\u001b[0m\n\u001b[1;32m     31\u001b[0m \u001b[0;34m\u001b[0m\u001b[0m\n",
      "\u001b[0;32m<ipython-input-2-bb7fe1b183b1>\u001b[0m in \u001b[0;36m<listcomp>\u001b[0;34m(.0)\u001b[0m\n\u001b[1;32m     27\u001b[0m     \u001b[0;32mimport\u001b[0m \u001b[0mnltk\u001b[0m\u001b[0;34m\u001b[0m\u001b[0m\n\u001b[1;32m     28\u001b[0m     \u001b[0mmention_tokenize\u001b[0m \u001b[0;34m=\u001b[0m \u001b[0;34m[\u001b[0m\u001b[0mnltk\u001b[0m\u001b[0;34m.\u001b[0m\u001b[0mword_tokenize\u001b[0m\u001b[0;34m(\u001b[0m\u001b[0mname\u001b[0m\u001b[0;34m)\u001b[0m \u001b[0;32mfor\u001b[0m \u001b[0mname\u001b[0m \u001b[0;32min\u001b[0m \u001b[0mmention_names\u001b[0m\u001b[0;34m]\u001b[0m\u001b[0;34m\u001b[0m\u001b[0m\n\u001b[0;32m---> 29\u001b[0;31m     \u001b[0mmention_vectorize\u001b[0m \u001b[0;34m=\u001b[0m \u001b[0mnp\u001b[0m\u001b[0;34m.\u001b[0m\u001b[0marray\u001b[0m\u001b[0;34m(\u001b[0m\u001b[0;34m[\u001b[0m\u001b[0;34m[\u001b[0m\u001b[0mvocabulary\u001b[0m\u001b[0;34m.\u001b[0m\u001b[0mget\u001b[0m\u001b[0;34m(\u001b[0m\u001b[0mtext\u001b[0m\u001b[0;34m.\u001b[0m\u001b[0mlower\u001b[0m\u001b[0;34m(\u001b[0m\u001b[0;34m)\u001b[0m\u001b[0;34m,\u001b[0m\u001b[0;36m1\u001b[0m\u001b[0;34m)\u001b[0m \u001b[0;32mfor\u001b[0m \u001b[0mtext\u001b[0m \u001b[0;32min\u001b[0m \u001b[0mmention\u001b[0m\u001b[0;34m]\u001b[0m \u001b[0;32mfor\u001b[0m \u001b[0mmention\u001b[0m \u001b[0;32min\u001b[0m \u001b[0mmention_tokenize\u001b[0m\u001b[0;34m]\u001b[0m\u001b[0;34m)\u001b[0m\u001b[0;34m\u001b[0m\u001b[0m\n\u001b[0m\u001b[1;32m     30\u001b[0m \u001b[0;34m\u001b[0m\u001b[0m\n\u001b[1;32m     31\u001b[0m \u001b[0;34m\u001b[0m\u001b[0m\n",
      "\u001b[0;31mNameError\u001b[0m: name 'vocabulary' is not defined"
     ]
    }
   ],
   "source": [
    "corpus_train = sample.NewDataSet('training corpus')\n",
    "corpus_train.objects = load.load(config['corpus']['training_file'],'NCBI')\n",
    "\n",
    "corpus_dev = sample.NewDataSet('dev corpus')\n",
    "corpus_dev.objects = load.load(config['corpus']['development_file'],'NCBI')\n",
    "\n",
    "corpus_test = sample.NewDataSet('test corpus')\n",
    "corpus_test.objects = load.load('/home/lhchan/disease_normalization/data/NCBItestset_corpus.txt','NCBI')\n",
    "\n",
    "\n",
    "for corpus in [corpus_train, corpus_dev, corpus_test]:\n",
    "    mention_ids = [] # list of all ids (gold standard for each mention)\n",
    "    mention_names = [] # list of all names\n",
    "    mention_all = [] # list of tuples (mention_text,gold,context,(start,end,docid))\n",
    "\n",
    "    #sth wrong here that sometimes throw an error\n",
    "    #import pdb;pdb.set_trace()\n",
    "    for abstract in corpus.objects:\n",
    "        for section in abstract.sections: # title and abstract\n",
    "            for mention in section.mentions:\n",
    "                nor_ids = [sample._nor_id(one_id) for one_id in mention.id]\n",
    "                mention_ids.append(nor_ids) # append list of ids, usually len(list)=1\n",
    "                mention_names.append(mention.text)\n",
    "                mention_all.append((mention.text,nor_ids,section.text,(mention.start,mention.end,abstract.docid)))\n",
    "\n",
    "    # tokenization & vectorization of mentions\n",
    "    import nltk\n",
    "    mention_tokenize = [nltk.word_tokenize(name) for name in mention_names]\n",
    "    mention_vectorize = np.array([[vocabulary.get(text.lower(),1) for text in mention] for mention in mention_tokenize])\n",
    "\n",
    "\n",
    "    corpus.ids = mention_ids\n",
    "    corpus.names = mention_names\n",
    "    corpus.all = mention_all\n",
    "    corpus.tokenize = mention_tokenize\n",
    "    corpus.vectorize = mention_vectorize\n",
    "\n",
    "# padding\n",
    "for corpus in [corpus_train, corpus_dev, corpus_test]:\n",
    "    logger.info('Padding {0}'.format(corpus.info))\n",
    "    logger.info('Old shape: {0}'.format(corpus.vectorize.shape))\n",
    "    corpus.padded = pad_sequences(corpus.vectorize, padding='post', maxlen=int(config['embedding']['length']))\n",
    "    #format of corpus.padded: numpy, mentions, padded"
   ]
  },
  {
   "cell_type": "code",
   "execution_count": 4,
   "metadata": {},
   "outputs": [
    {
     "name": "stdout",
     "output_type": "stream",
     "text": [
      "67782\n",
      "5145\n",
      "787\n",
      "960\n"
     ]
    }
   ],
   "source": [
    "# load data from command line\n",
    "import pickle\n",
    "[concept,corpus_train,corpus_dev,corpus_test] = pickle.load(open('gitig_delme.pickle','rb'))\n",
    "\n",
    "print(len(concept.names))\n",
    "print(len(corpus_train.names))\n",
    "print(len(corpus_dev.names))\n",
    "print(len(corpus_test.names))"
   ]
  },
  {
   "cell_type": "code",
   "execution_count": 5,
   "metadata": {},
   "outputs": [
    {
     "name": "stdout",
     "output_type": "stream",
     "text": [
      "33\n",
      "16\n",
      "10\n",
      "11\n"
     ]
    }
   ],
   "source": [
    "token_lengths_vocab = [len(e) for e in concept.tokenize]\n",
    "token_lengths_train = [len(e) for e in corpus_train.tokenize]\n",
    "token_lengths_dev = [len(e) for e in corpus_dev.tokenize]\n",
    "token_lengths_test = [len(e) for e in corpus_test.tokenize]\n",
    "\n",
    "print(max(token_lengths_vocab))\n",
    "print(max(token_lengths_train))\n",
    "print(max(token_lengths_dev))\n",
    "print(max(token_lengths_test))"
   ]
  },
  {
   "cell_type": "code",
   "execution_count": 6,
   "metadata": {
    "scrolled": true
   },
   "outputs": [
    {
     "data": {
      "image/png": "[encoded data removed]",
      "text/plain": [
       "<Figure size 432x288 with 1 Axes>"
      ]
     },
     "metadata": {},
     "output_type": "display_data"
    },
    {
     "data": {
      "image/png": "[encoded data removed]",
      "text/plain": [
       "<Figure size 432x288 with 1 Axes>"
      ]
     },
     "metadata": {},
     "output_type": "display_data"
    },
    {
     "data": {
      "image/png": "[encoded data removed]",
      "text/plain": [
       "<Figure size 432x288 with 1 Axes>"
      ]
     },
     "metadata": {},
     "output_type": "display_data"
    },
    {
     "data": {
      "image/png": "[encoded data removed]",
      "text/plain": [
       "<Figure size 432x288 with 1 Axes>"
      ]
     },
     "metadata": {},
     "output_type": "display_data"
    }
   ],
   "source": [
    "%matplotlib inline\n",
    "\n",
    "# 'Distribution of length of tokenized mentions'\n",
    "\n",
    "import numpy as np\n",
    "import matplotlib.pyplot as plt\n",
    "\n",
    "def plot_dist(length_lst, title):\n",
    "    n, bins, patches = plt.hist(length_lst,bins=np.arange(np.min(length_lst),np.max(length_lst),1))\n",
    "    plt.title(title)\n",
    "    plt.xlabel('Number of tokens')\n",
    "    plt.ylabel('Number of terms')\n",
    "    plt.show()\n",
    "    \n",
    "plot_dist(token_lengths_vocab,'Controlled vocabulary')\n",
    "plot_dist(token_lengths_train,'NCBI disease corpus (Training set)')\n",
    "plot_dist(token_lengths_dev,'NCBI disease corpus (Development set)')\n",
    "plot_dist(token_lengths_test,'NCBI disease corpus (Test set)')"
   ]
  },
  {
   "cell_type": "code",
   "execution_count": 7,
   "metadata": {},
   "outputs": [
    {
     "name": "stdout",
     "output_type": "stream",
     "text": [
      "Percentage of terms covered 0.9878433802484435\n",
      "Percentage of terms covered 0.998639455782313\n",
      "Percentage of terms covered 1.0\n",
      "Percentage of terms covered 0.9989583333333333\n"
     ]
    }
   ],
   "source": [
    "# percentage of terms with more than 10 tokens\n",
    "\n",
    "def coverage(n,lst):\n",
    "    count=0\n",
    "    for length in lst:\n",
    "        if length >n:\n",
    "            count += 1\n",
    "    p = 1-(count/float(len(lst)))\n",
    "    print('Percentage of terms covered {0}'.format(p))\n",
    "\n",
    "coverage(10,token_lengths_vocab)\n",
    "coverage(10,token_lengths_train)\n",
    "coverage(10,token_lengths_dev)\n",
    "coverage(10,token_lengths_test)"
   ]
  },
  {
   "cell_type": "code",
   "execution_count": null,
   "metadata": {},
   "outputs": [],
   "source": []
  }
 ],
 "metadata": {
  "kernelspec": {
   "display_name": "Python 3",
   "language": "python",
   "name": "python3"
  },
  "language_info": {
   "codemirror_mode": {
    "name": "ipython",
    "version": 3
   },
   "file_extension": ".py",
   "mimetype": "text/x-python",
   "name": "python",
   "nbconvert_exporter": "python",
   "pygments_lexer": "ipython3",
   "version": "3.5.2"
  }
 },
 "nbformat": 4,
 "nbformat_minor": 2
}
